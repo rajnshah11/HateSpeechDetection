{
  "nbformat": 4,
  "nbformat_minor": 0,
  "metadata": {
    "colab": {
      "provenance": [],
      "machine_shape": "hm"
    },
    "kernelspec": {
      "name": "python3",
      "display_name": "Python 3"
    },
    "language_info": {
      "name": "python"
    },
    "accelerator": "GPU",
    "gpuClass": "standard"
  },
  "cells": [
    {
      "cell_type": "markdown",
      "source": [
        "### Mounting google drive for final data"
      ],
      "metadata": {
        "id": "T031lVetPdZ7"
      }
    },
    {
      "cell_type": "code",
      "source": [
        "from google.colab import drive\n",
        "\n",
        "drive.mount('/content/gdrive')\n",
        "root_path = 'gdrive/My Drive/hate_speech/'"
      ],
      "metadata": {
        "colab": {
          "base_uri": "https://localhost:8080/"
        },
        "id": "hj6BCQ1WW7ps",
        "outputId": "0921b8e8-57d5-4423-f496-92e3d7881529"
      },
      "execution_count": 1,
      "outputs": [
        {
          "output_type": "stream",
          "name": "stdout",
          "text": [
            "Drive already mounted at /content/gdrive; to attempt to forcibly remount, call drive.mount(\"/content/gdrive\", force_remount=True).\n"
          ]
        }
      ]
    },
    {
      "cell_type": "markdown",
      "source": [
        "## Importing necessary libraries"
      ],
      "metadata": {
        "id": "79HpxmdzP6Ni"
      }
    },
    {
      "cell_type": "code",
      "source": [
        "import numpy as np\n",
        "import pandas as pd\n",
        "import tensorflow as tf\n",
        "from tensorflow import keras\n",
        "import tensorflow_hub as hub\n",
        "import matplotlib.pyplot as plt\n",
        "from tensorflow.keras.optimizers import Adam"
      ],
      "metadata": {
        "id": "1Ngs2JSjXOvM"
      },
      "execution_count": 2,
      "outputs": []
    },
    {
      "cell_type": "markdown",
      "source": [
        "### Reading data in CSV format"
      ],
      "metadata": {
        "id": "miI5ZNTtQCzp"
      }
    },
    {
      "cell_type": "code",
      "source": [
        "data =  pd.read_csv('gdrive/My Drive/hate_speech/final_data.csv')\n",
        "data.head()"
      ],
      "metadata": {
        "colab": {
          "base_uri": "https://localhost:8080/",
          "height": 548
        },
        "id": "g9yxVgObXCi7",
        "outputId": "735cc4f9-ba68-46d6-83e7-f59b92ce0bb7"
      },
      "execution_count": 3,
      "outputs": [
        {
          "output_type": "execute_result",
          "data": {
            "text/plain": [
              "   Unnamed: 0                                        tweet_lower  \\\n",
              "0           0  brand new big flowdan in the emails   #horrorshow   \n",
              "1           1                @mckinley719 fuck bitches get money   \n",
              "2           2  rt @_____al: exactly. don't be gettin no addit...   \n",
              "3           3  niccas use to be like you always tryn pull a f...   \n",
              "4           4                       @munafal777 karma is a bitch   \n",
              "\n",
              "   handle_count                                     handle_removed  \\\n",
              "0             0  brand new big flowdan in the emails   #horrorshow   \n",
              "1             1                             fuck bitches get money   \n",
              "2             1  rt : exactly. don't be gettin no additional pu...   \n",
              "3             0  niccas use to be like you always tryn pull a f...   \n",
              "4             1                                   karma is a bitch   \n",
              "\n",
              "                                         url_removed  \\\n",
              "0  brand new big flowdan in the emails   #horrorshow   \n",
              "1                             fuck bitches get money   \n",
              "2  rt : exactly. don't be gettin no additional pu...   \n",
              "3  niccas use to be like you always tryn pull a f...   \n",
              "4                                   karma is a bitch   \n",
              "\n",
              "                                special_char_removed  \\\n",
              "0  brand new big flowdan in the emails   #horrorshow   \n",
              "1                             fuck bitches get money   \n",
              "2  rt   exactly  don't be gettin no additional pu...   \n",
              "3  niccas use to be like you always tryn pull a f...   \n",
              "4                                   karma is a bitch   \n",
              "\n",
              "                              single_hashtag_removed  tweets_length  \\\n",
              "0  brand new big flowdan in the emails   #horrorshow             49   \n",
              "1                             fuck bitches get money             23   \n",
              "2  rt   exactly  don't be gettin no additional pu...             95   \n",
              "3  niccas use to be like you always tryn pull a f...             77   \n",
              "4                                   karma is a bitch             17   \n",
              "\n",
              "                                          lemmatized  \\\n",
              "0     brand new big flowdan in the email #horrorshow   \n",
              "1                               fuck bitch get money   \n",
              "2  rt exactly do n't be gettin no additional puss...   \n",
              "3  niccas use to be like you always tryn pull a f...   \n",
              "4                                   karma be a bitch   \n",
              "\n",
              "                             tweet_stopwords_removed  target  \n",
              "0            brand new big flowdan email #horrorshow       0  \n",
              "1                               fuck bitch get money       1  \n",
              "2  exactly n't gettin additional pussy soft ass t...       1  \n",
              "3  niccas use like always tryn pull finesse duh n...       1  \n",
              "4                                        karma bitch       1  "
            ],
            "text/html": [
              "\n",
              "  <div id=\"df-975c4c1e-cd3f-41d8-a6d3-79ee969d8b54\">\n",
              "    <div class=\"colab-df-container\">\n",
              "      <div>\n",
              "<style scoped>\n",
              "    .dataframe tbody tr th:only-of-type {\n",
              "        vertical-align: middle;\n",
              "    }\n",
              "\n",
              "    .dataframe tbody tr th {\n",
              "        vertical-align: top;\n",
              "    }\n",
              "\n",
              "    .dataframe thead th {\n",
              "        text-align: right;\n",
              "    }\n",
              "</style>\n",
              "<table border=\"1\" class=\"dataframe\">\n",
              "  <thead>\n",
              "    <tr style=\"text-align: right;\">\n",
              "      <th></th>\n",
              "      <th>Unnamed: 0</th>\n",
              "      <th>tweet_lower</th>\n",
              "      <th>handle_count</th>\n",
              "      <th>handle_removed</th>\n",
              "      <th>url_removed</th>\n",
              "      <th>special_char_removed</th>\n",
              "      <th>single_hashtag_removed</th>\n",
              "      <th>tweets_length</th>\n",
              "      <th>lemmatized</th>\n",
              "      <th>tweet_stopwords_removed</th>\n",
              "      <th>target</th>\n",
              "    </tr>\n",
              "  </thead>\n",
              "  <tbody>\n",
              "    <tr>\n",
              "      <th>0</th>\n",
              "      <td>0</td>\n",
              "      <td>brand new big flowdan in the emails   #horrorshow</td>\n",
              "      <td>0</td>\n",
              "      <td>brand new big flowdan in the emails   #horrorshow</td>\n",
              "      <td>brand new big flowdan in the emails   #horrorshow</td>\n",
              "      <td>brand new big flowdan in the emails   #horrorshow</td>\n",
              "      <td>brand new big flowdan in the emails   #horrorshow</td>\n",
              "      <td>49</td>\n",
              "      <td>brand new big flowdan in the email #horrorshow</td>\n",
              "      <td>brand new big flowdan email #horrorshow</td>\n",
              "      <td>0</td>\n",
              "    </tr>\n",
              "    <tr>\n",
              "      <th>1</th>\n",
              "      <td>1</td>\n",
              "      <td>@mckinley719 fuck bitches get money</td>\n",
              "      <td>1</td>\n",
              "      <td>fuck bitches get money</td>\n",
              "      <td>fuck bitches get money</td>\n",
              "      <td>fuck bitches get money</td>\n",
              "      <td>fuck bitches get money</td>\n",
              "      <td>23</td>\n",
              "      <td>fuck bitch get money</td>\n",
              "      <td>fuck bitch get money</td>\n",
              "      <td>1</td>\n",
              "    </tr>\n",
              "    <tr>\n",
              "      <th>2</th>\n",
              "      <td>2</td>\n",
              "      <td>rt @_____al: exactly. don't be gettin no addit...</td>\n",
              "      <td>1</td>\n",
              "      <td>rt : exactly. don't be gettin no additional pu...</td>\n",
              "      <td>rt : exactly. don't be gettin no additional pu...</td>\n",
              "      <td>rt   exactly  don't be gettin no additional pu...</td>\n",
              "      <td>rt   exactly  don't be gettin no additional pu...</td>\n",
              "      <td>95</td>\n",
              "      <td>rt exactly do n't be gettin no additional puss...</td>\n",
              "      <td>exactly n't gettin additional pussy soft ass t...</td>\n",
              "      <td>1</td>\n",
              "    </tr>\n",
              "    <tr>\n",
              "      <th>3</th>\n",
              "      <td>3</td>\n",
              "      <td>niccas use to be like you always tryn pull a f...</td>\n",
              "      <td>0</td>\n",
              "      <td>niccas use to be like you always tryn pull a f...</td>\n",
              "      <td>niccas use to be like you always tryn pull a f...</td>\n",
              "      <td>niccas use to be like you always tryn pull a f...</td>\n",
              "      <td>niccas use to be like you always tryn pull a f...</td>\n",
              "      <td>77</td>\n",
              "      <td>niccas use to be like you always tryn pull a f...</td>\n",
              "      <td>niccas use like always tryn pull finesse duh n...</td>\n",
              "      <td>1</td>\n",
              "    </tr>\n",
              "    <tr>\n",
              "      <th>4</th>\n",
              "      <td>4</td>\n",
              "      <td>@munafal777 karma is a bitch</td>\n",
              "      <td>1</td>\n",
              "      <td>karma is a bitch</td>\n",
              "      <td>karma is a bitch</td>\n",
              "      <td>karma is a bitch</td>\n",
              "      <td>karma is a bitch</td>\n",
              "      <td>17</td>\n",
              "      <td>karma be a bitch</td>\n",
              "      <td>karma bitch</td>\n",
              "      <td>1</td>\n",
              "    </tr>\n",
              "  </tbody>\n",
              "</table>\n",
              "</div>\n",
              "      <button class=\"colab-df-convert\" onclick=\"convertToInteractive('df-975c4c1e-cd3f-41d8-a6d3-79ee969d8b54')\"\n",
              "              title=\"Convert this dataframe to an interactive table.\"\n",
              "              style=\"display:none;\">\n",
              "        \n",
              "  <svg xmlns=\"http://www.w3.org/2000/svg\" height=\"24px\"viewBox=\"0 0 24 24\"\n",
              "       width=\"24px\">\n",
              "    <path d=\"M0 0h24v24H0V0z\" fill=\"none\"/>\n",
              "    <path d=\"M18.56 5.44l.94 2.06.94-2.06 2.06-.94-2.06-.94-.94-2.06-.94 2.06-2.06.94zm-11 1L8.5 8.5l.94-2.06 2.06-.94-2.06-.94L8.5 2.5l-.94 2.06-2.06.94zm10 10l.94 2.06.94-2.06 2.06-.94-2.06-.94-.94-2.06-.94 2.06-2.06.94z\"/><path d=\"M17.41 7.96l-1.37-1.37c-.4-.4-.92-.59-1.43-.59-.52 0-1.04.2-1.43.59L10.3 9.45l-7.72 7.72c-.78.78-.78 2.05 0 2.83L4 21.41c.39.39.9.59 1.41.59.51 0 1.02-.2 1.41-.59l7.78-7.78 2.81-2.81c.8-.78.8-2.07 0-2.86zM5.41 20L4 18.59l7.72-7.72 1.47 1.35L5.41 20z\"/>\n",
              "  </svg>\n",
              "      </button>\n",
              "      \n",
              "  <style>\n",
              "    .colab-df-container {\n",
              "      display:flex;\n",
              "      flex-wrap:wrap;\n",
              "      gap: 12px;\n",
              "    }\n",
              "\n",
              "    .colab-df-convert {\n",
              "      background-color: #E8F0FE;\n",
              "      border: none;\n",
              "      border-radius: 50%;\n",
              "      cursor: pointer;\n",
              "      display: none;\n",
              "      fill: #1967D2;\n",
              "      height: 32px;\n",
              "      padding: 0 0 0 0;\n",
              "      width: 32px;\n",
              "    }\n",
              "\n",
              "    .colab-df-convert:hover {\n",
              "      background-color: #E2EBFA;\n",
              "      box-shadow: 0px 1px 2px rgba(60, 64, 67, 0.3), 0px 1px 3px 1px rgba(60, 64, 67, 0.15);\n",
              "      fill: #174EA6;\n",
              "    }\n",
              "\n",
              "    [theme=dark] .colab-df-convert {\n",
              "      background-color: #3B4455;\n",
              "      fill: #D2E3FC;\n",
              "    }\n",
              "\n",
              "    [theme=dark] .colab-df-convert:hover {\n",
              "      background-color: #434B5C;\n",
              "      box-shadow: 0px 1px 3px 1px rgba(0, 0, 0, 0.15);\n",
              "      filter: drop-shadow(0px 1px 2px rgba(0, 0, 0, 0.3));\n",
              "      fill: #FFFFFF;\n",
              "    }\n",
              "  </style>\n",
              "\n",
              "      <script>\n",
              "        const buttonEl =\n",
              "          document.querySelector('#df-975c4c1e-cd3f-41d8-a6d3-79ee969d8b54 button.colab-df-convert');\n",
              "        buttonEl.style.display =\n",
              "          google.colab.kernel.accessAllowed ? 'block' : 'none';\n",
              "\n",
              "        async function convertToInteractive(key) {\n",
              "          const element = document.querySelector('#df-975c4c1e-cd3f-41d8-a6d3-79ee969d8b54');\n",
              "          const dataTable =\n",
              "            await google.colab.kernel.invokeFunction('convertToInteractive',\n",
              "                                                     [key], {});\n",
              "          if (!dataTable) return;\n",
              "\n",
              "          const docLinkHtml = 'Like what you see? Visit the ' +\n",
              "            '<a target=\"_blank\" href=https://colab.research.google.com/notebooks/data_table.ipynb>data table notebook</a>'\n",
              "            + ' to learn more about interactive tables.';\n",
              "          element.innerHTML = '';\n",
              "          dataTable['output_type'] = 'display_data';\n",
              "          await google.colab.output.renderOutput(dataTable, element);\n",
              "          const docLink = document.createElement('div');\n",
              "          docLink.innerHTML = docLinkHtml;\n",
              "          element.appendChild(docLink);\n",
              "        }\n",
              "      </script>\n",
              "    </div>\n",
              "  </div>\n",
              "  "
            ]
          },
          "metadata": {},
          "execution_count": 3
        }
      ]
    },
    {
      "cell_type": "markdown",
      "source": [
        "### Selecting only 2 columns that are important for model building"
      ],
      "metadata": {
        "id": "uNnk4k-kQLdz"
      }
    },
    {
      "cell_type": "code",
      "source": [
        "data = data[['tweet_stopwords_removed', 'target']]\n",
        "data"
      ],
      "metadata": {
        "colab": {
          "base_uri": "https://localhost:8080/",
          "height": 424
        },
        "id": "SsOUiHYmf0W1",
        "outputId": "1ce79a3f-9b7d-4a11-f7d0-94ba3cac8e6c"
      },
      "execution_count": 4,
      "outputs": [
        {
          "output_type": "execute_result",
          "data": {
            "text/plain": [
              "                                 tweet_stopwords_removed  target\n",
              "0                brand new big flowdan email #horrorshow       0\n",
              "1                                   fuck bitch get money       1\n",
              "2      exactly n't gettin additional pussy soft ass t...       1\n",
              "3      niccas use like always tryn pull finesse duh n...       1\n",
              "4                                            karma bitch       1\n",
              "...                                                  ...     ...\n",
              "40211                                        dress ready       0\n",
              "40212  many bitch get rabies hate hoppin' woman #stan...       1\n",
              "40213  #lesmiserables gang ready westendlive #lesmise...       0\n",
              "40214                dumb ugly stupid bullshit ass bitch       1\n",
              "40215                                   bros hoe bro hoe       1\n",
              "\n",
              "[40216 rows x 2 columns]"
            ],
            "text/html": [
              "\n",
              "  <div id=\"df-e08b960c-4105-451e-a7a6-7e89a4184f22\">\n",
              "    <div class=\"colab-df-container\">\n",
              "      <div>\n",
              "<style scoped>\n",
              "    .dataframe tbody tr th:only-of-type {\n",
              "        vertical-align: middle;\n",
              "    }\n",
              "\n",
              "    .dataframe tbody tr th {\n",
              "        vertical-align: top;\n",
              "    }\n",
              "\n",
              "    .dataframe thead th {\n",
              "        text-align: right;\n",
              "    }\n",
              "</style>\n",
              "<table border=\"1\" class=\"dataframe\">\n",
              "  <thead>\n",
              "    <tr style=\"text-align: right;\">\n",
              "      <th></th>\n",
              "      <th>tweet_stopwords_removed</th>\n",
              "      <th>target</th>\n",
              "    </tr>\n",
              "  </thead>\n",
              "  <tbody>\n",
              "    <tr>\n",
              "      <th>0</th>\n",
              "      <td>brand new big flowdan email #horrorshow</td>\n",
              "      <td>0</td>\n",
              "    </tr>\n",
              "    <tr>\n",
              "      <th>1</th>\n",
              "      <td>fuck bitch get money</td>\n",
              "      <td>1</td>\n",
              "    </tr>\n",
              "    <tr>\n",
              "      <th>2</th>\n",
              "      <td>exactly n't gettin additional pussy soft ass t...</td>\n",
              "      <td>1</td>\n",
              "    </tr>\n",
              "    <tr>\n",
              "      <th>3</th>\n",
              "      <td>niccas use like always tryn pull finesse duh n...</td>\n",
              "      <td>1</td>\n",
              "    </tr>\n",
              "    <tr>\n",
              "      <th>4</th>\n",
              "      <td>karma bitch</td>\n",
              "      <td>1</td>\n",
              "    </tr>\n",
              "    <tr>\n",
              "      <th>...</th>\n",
              "      <td>...</td>\n",
              "      <td>...</td>\n",
              "    </tr>\n",
              "    <tr>\n",
              "      <th>40211</th>\n",
              "      <td>dress ready</td>\n",
              "      <td>0</td>\n",
              "    </tr>\n",
              "    <tr>\n",
              "      <th>40212</th>\n",
              "      <td>many bitch get rabies hate hoppin' woman #stan...</td>\n",
              "      <td>1</td>\n",
              "    </tr>\n",
              "    <tr>\n",
              "      <th>40213</th>\n",
              "      <td>#lesmiserables gang ready westendlive #lesmise...</td>\n",
              "      <td>0</td>\n",
              "    </tr>\n",
              "    <tr>\n",
              "      <th>40214</th>\n",
              "      <td>dumb ugly stupid bullshit ass bitch</td>\n",
              "      <td>1</td>\n",
              "    </tr>\n",
              "    <tr>\n",
              "      <th>40215</th>\n",
              "      <td>bros hoe bro hoe</td>\n",
              "      <td>1</td>\n",
              "    </tr>\n",
              "  </tbody>\n",
              "</table>\n",
              "<p>40216 rows × 2 columns</p>\n",
              "</div>\n",
              "      <button class=\"colab-df-convert\" onclick=\"convertToInteractive('df-e08b960c-4105-451e-a7a6-7e89a4184f22')\"\n",
              "              title=\"Convert this dataframe to an interactive table.\"\n",
              "              style=\"display:none;\">\n",
              "        \n",
              "  <svg xmlns=\"http://www.w3.org/2000/svg\" height=\"24px\"viewBox=\"0 0 24 24\"\n",
              "       width=\"24px\">\n",
              "    <path d=\"M0 0h24v24H0V0z\" fill=\"none\"/>\n",
              "    <path d=\"M18.56 5.44l.94 2.06.94-2.06 2.06-.94-2.06-.94-.94-2.06-.94 2.06-2.06.94zm-11 1L8.5 8.5l.94-2.06 2.06-.94-2.06-.94L8.5 2.5l-.94 2.06-2.06.94zm10 10l.94 2.06.94-2.06 2.06-.94-2.06-.94-.94-2.06-.94 2.06-2.06.94z\"/><path d=\"M17.41 7.96l-1.37-1.37c-.4-.4-.92-.59-1.43-.59-.52 0-1.04.2-1.43.59L10.3 9.45l-7.72 7.72c-.78.78-.78 2.05 0 2.83L4 21.41c.39.39.9.59 1.41.59.51 0 1.02-.2 1.41-.59l7.78-7.78 2.81-2.81c.8-.78.8-2.07 0-2.86zM5.41 20L4 18.59l7.72-7.72 1.47 1.35L5.41 20z\"/>\n",
              "  </svg>\n",
              "      </button>\n",
              "      \n",
              "  <style>\n",
              "    .colab-df-container {\n",
              "      display:flex;\n",
              "      flex-wrap:wrap;\n",
              "      gap: 12px;\n",
              "    }\n",
              "\n",
              "    .colab-df-convert {\n",
              "      background-color: #E8F0FE;\n",
              "      border: none;\n",
              "      border-radius: 50%;\n",
              "      cursor: pointer;\n",
              "      display: none;\n",
              "      fill: #1967D2;\n",
              "      height: 32px;\n",
              "      padding: 0 0 0 0;\n",
              "      width: 32px;\n",
              "    }\n",
              "\n",
              "    .colab-df-convert:hover {\n",
              "      background-color: #E2EBFA;\n",
              "      box-shadow: 0px 1px 2px rgba(60, 64, 67, 0.3), 0px 1px 3px 1px rgba(60, 64, 67, 0.15);\n",
              "      fill: #174EA6;\n",
              "    }\n",
              "\n",
              "    [theme=dark] .colab-df-convert {\n",
              "      background-color: #3B4455;\n",
              "      fill: #D2E3FC;\n",
              "    }\n",
              "\n",
              "    [theme=dark] .colab-df-convert:hover {\n",
              "      background-color: #434B5C;\n",
              "      box-shadow: 0px 1px 3px 1px rgba(0, 0, 0, 0.15);\n",
              "      filter: drop-shadow(0px 1px 2px rgba(0, 0, 0, 0.3));\n",
              "      fill: #FFFFFF;\n",
              "    }\n",
              "  </style>\n",
              "\n",
              "      <script>\n",
              "        const buttonEl =\n",
              "          document.querySelector('#df-e08b960c-4105-451e-a7a6-7e89a4184f22 button.colab-df-convert');\n",
              "        buttonEl.style.display =\n",
              "          google.colab.kernel.accessAllowed ? 'block' : 'none';\n",
              "\n",
              "        async function convertToInteractive(key) {\n",
              "          const element = document.querySelector('#df-e08b960c-4105-451e-a7a6-7e89a4184f22');\n",
              "          const dataTable =\n",
              "            await google.colab.kernel.invokeFunction('convertToInteractive',\n",
              "                                                     [key], {});\n",
              "          if (!dataTable) return;\n",
              "\n",
              "          const docLinkHtml = 'Like what you see? Visit the ' +\n",
              "            '<a target=\"_blank\" href=https://colab.research.google.com/notebooks/data_table.ipynb>data table notebook</a>'\n",
              "            + ' to learn more about interactive tables.';\n",
              "          element.innerHTML = '';\n",
              "          dataTable['output_type'] = 'display_data';\n",
              "          await google.colab.output.renderOutput(dataTable, element);\n",
              "          const docLink = document.createElement('div');\n",
              "          docLink.innerHTML = docLinkHtml;\n",
              "          element.appendChild(docLink);\n",
              "        }\n",
              "      </script>\n",
              "    </div>\n",
              "  </div>\n",
              "  "
            ]
          },
          "metadata": {},
          "execution_count": 4
        }
      ]
    },
    {
      "cell_type": "code",
      "source": [
        "# dropping null values\n",
        "data = data.dropna()\n",
        "data.reset_index(inplace=True, drop=True)\n",
        "data"
      ],
      "metadata": {
        "colab": {
          "base_uri": "https://localhost:8080/",
          "height": 424
        },
        "id": "pwZofmUfoijf",
        "outputId": "9b6c769f-b081-42c5-ae87-11b68c5c36ab"
      },
      "execution_count": 5,
      "outputs": [
        {
          "output_type": "execute_result",
          "data": {
            "text/plain": [
              "                                 tweet_stopwords_removed  target\n",
              "0                brand new big flowdan email #horrorshow       0\n",
              "1                                   fuck bitch get money       1\n",
              "2      exactly n't gettin additional pussy soft ass t...       1\n",
              "3      niccas use like always tryn pull finesse duh n...       1\n",
              "4                                            karma bitch       1\n",
              "...                                                  ...     ...\n",
              "40175                                        dress ready       0\n",
              "40176  many bitch get rabies hate hoppin' woman #stan...       1\n",
              "40177  #lesmiserables gang ready westendlive #lesmise...       0\n",
              "40178                dumb ugly stupid bullshit ass bitch       1\n",
              "40179                                   bros hoe bro hoe       1\n",
              "\n",
              "[40180 rows x 2 columns]"
            ],
            "text/html": [
              "\n",
              "  <div id=\"df-77eba74b-314c-44cf-8c41-f0ec34e5bbbe\">\n",
              "    <div class=\"colab-df-container\">\n",
              "      <div>\n",
              "<style scoped>\n",
              "    .dataframe tbody tr th:only-of-type {\n",
              "        vertical-align: middle;\n",
              "    }\n",
              "\n",
              "    .dataframe tbody tr th {\n",
              "        vertical-align: top;\n",
              "    }\n",
              "\n",
              "    .dataframe thead th {\n",
              "        text-align: right;\n",
              "    }\n",
              "</style>\n",
              "<table border=\"1\" class=\"dataframe\">\n",
              "  <thead>\n",
              "    <tr style=\"text-align: right;\">\n",
              "      <th></th>\n",
              "      <th>tweet_stopwords_removed</th>\n",
              "      <th>target</th>\n",
              "    </tr>\n",
              "  </thead>\n",
              "  <tbody>\n",
              "    <tr>\n",
              "      <th>0</th>\n",
              "      <td>brand new big flowdan email #horrorshow</td>\n",
              "      <td>0</td>\n",
              "    </tr>\n",
              "    <tr>\n",
              "      <th>1</th>\n",
              "      <td>fuck bitch get money</td>\n",
              "      <td>1</td>\n",
              "    </tr>\n",
              "    <tr>\n",
              "      <th>2</th>\n",
              "      <td>exactly n't gettin additional pussy soft ass t...</td>\n",
              "      <td>1</td>\n",
              "    </tr>\n",
              "    <tr>\n",
              "      <th>3</th>\n",
              "      <td>niccas use like always tryn pull finesse duh n...</td>\n",
              "      <td>1</td>\n",
              "    </tr>\n",
              "    <tr>\n",
              "      <th>4</th>\n",
              "      <td>karma bitch</td>\n",
              "      <td>1</td>\n",
              "    </tr>\n",
              "    <tr>\n",
              "      <th>...</th>\n",
              "      <td>...</td>\n",
              "      <td>...</td>\n",
              "    </tr>\n",
              "    <tr>\n",
              "      <th>40175</th>\n",
              "      <td>dress ready</td>\n",
              "      <td>0</td>\n",
              "    </tr>\n",
              "    <tr>\n",
              "      <th>40176</th>\n",
              "      <td>many bitch get rabies hate hoppin' woman #stan...</td>\n",
              "      <td>1</td>\n",
              "    </tr>\n",
              "    <tr>\n",
              "      <th>40177</th>\n",
              "      <td>#lesmiserables gang ready westendlive #lesmise...</td>\n",
              "      <td>0</td>\n",
              "    </tr>\n",
              "    <tr>\n",
              "      <th>40178</th>\n",
              "      <td>dumb ugly stupid bullshit ass bitch</td>\n",
              "      <td>1</td>\n",
              "    </tr>\n",
              "    <tr>\n",
              "      <th>40179</th>\n",
              "      <td>bros hoe bro hoe</td>\n",
              "      <td>1</td>\n",
              "    </tr>\n",
              "  </tbody>\n",
              "</table>\n",
              "<p>40180 rows × 2 columns</p>\n",
              "</div>\n",
              "      <button class=\"colab-df-convert\" onclick=\"convertToInteractive('df-77eba74b-314c-44cf-8c41-f0ec34e5bbbe')\"\n",
              "              title=\"Convert this dataframe to an interactive table.\"\n",
              "              style=\"display:none;\">\n",
              "        \n",
              "  <svg xmlns=\"http://www.w3.org/2000/svg\" height=\"24px\"viewBox=\"0 0 24 24\"\n",
              "       width=\"24px\">\n",
              "    <path d=\"M0 0h24v24H0V0z\" fill=\"none\"/>\n",
              "    <path d=\"M18.56 5.44l.94 2.06.94-2.06 2.06-.94-2.06-.94-.94-2.06-.94 2.06-2.06.94zm-11 1L8.5 8.5l.94-2.06 2.06-.94-2.06-.94L8.5 2.5l-.94 2.06-2.06.94zm10 10l.94 2.06.94-2.06 2.06-.94-2.06-.94-.94-2.06-.94 2.06-2.06.94z\"/><path d=\"M17.41 7.96l-1.37-1.37c-.4-.4-.92-.59-1.43-.59-.52 0-1.04.2-1.43.59L10.3 9.45l-7.72 7.72c-.78.78-.78 2.05 0 2.83L4 21.41c.39.39.9.59 1.41.59.51 0 1.02-.2 1.41-.59l7.78-7.78 2.81-2.81c.8-.78.8-2.07 0-2.86zM5.41 20L4 18.59l7.72-7.72 1.47 1.35L5.41 20z\"/>\n",
              "  </svg>\n",
              "      </button>\n",
              "      \n",
              "  <style>\n",
              "    .colab-df-container {\n",
              "      display:flex;\n",
              "      flex-wrap:wrap;\n",
              "      gap: 12px;\n",
              "    }\n",
              "\n",
              "    .colab-df-convert {\n",
              "      background-color: #E8F0FE;\n",
              "      border: none;\n",
              "      border-radius: 50%;\n",
              "      cursor: pointer;\n",
              "      display: none;\n",
              "      fill: #1967D2;\n",
              "      height: 32px;\n",
              "      padding: 0 0 0 0;\n",
              "      width: 32px;\n",
              "    }\n",
              "\n",
              "    .colab-df-convert:hover {\n",
              "      background-color: #E2EBFA;\n",
              "      box-shadow: 0px 1px 2px rgba(60, 64, 67, 0.3), 0px 1px 3px 1px rgba(60, 64, 67, 0.15);\n",
              "      fill: #174EA6;\n",
              "    }\n",
              "\n",
              "    [theme=dark] .colab-df-convert {\n",
              "      background-color: #3B4455;\n",
              "      fill: #D2E3FC;\n",
              "    }\n",
              "\n",
              "    [theme=dark] .colab-df-convert:hover {\n",
              "      background-color: #434B5C;\n",
              "      box-shadow: 0px 1px 3px 1px rgba(0, 0, 0, 0.15);\n",
              "      filter: drop-shadow(0px 1px 2px rgba(0, 0, 0, 0.3));\n",
              "      fill: #FFFFFF;\n",
              "    }\n",
              "  </style>\n",
              "\n",
              "      <script>\n",
              "        const buttonEl =\n",
              "          document.querySelector('#df-77eba74b-314c-44cf-8c41-f0ec34e5bbbe button.colab-df-convert');\n",
              "        buttonEl.style.display =\n",
              "          google.colab.kernel.accessAllowed ? 'block' : 'none';\n",
              "\n",
              "        async function convertToInteractive(key) {\n",
              "          const element = document.querySelector('#df-77eba74b-314c-44cf-8c41-f0ec34e5bbbe');\n",
              "          const dataTable =\n",
              "            await google.colab.kernel.invokeFunction('convertToInteractive',\n",
              "                                                     [key], {});\n",
              "          if (!dataTable) return;\n",
              "\n",
              "          const docLinkHtml = 'Like what you see? Visit the ' +\n",
              "            '<a target=\"_blank\" href=https://colab.research.google.com/notebooks/data_table.ipynb>data table notebook</a>'\n",
              "            + ' to learn more about interactive tables.';\n",
              "          element.innerHTML = '';\n",
              "          dataTable['output_type'] = 'display_data';\n",
              "          await google.colab.output.renderOutput(dataTable, element);\n",
              "          const docLink = document.createElement('div');\n",
              "          docLink.innerHTML = docLinkHtml;\n",
              "          element.appendChild(docLink);\n",
              "        }\n",
              "      </script>\n",
              "    </div>\n",
              "  </div>\n",
              "  "
            ]
          },
          "metadata": {},
          "execution_count": 5
        }
      ]
    },
    {
      "cell_type": "code",
      "source": [
        "data.isna().sum()"
      ],
      "metadata": {
        "colab": {
          "base_uri": "https://localhost:8080/"
        },
        "id": "gme5uYH5omUv",
        "outputId": "4cb336bc-f474-4068-e989-a165c27d4251"
      },
      "execution_count": 6,
      "outputs": [
        {
          "output_type": "execute_result",
          "data": {
            "text/plain": [
              "tweet_stopwords_removed    0\n",
              "target                     0\n",
              "dtype: int64"
            ]
          },
          "metadata": {},
          "execution_count": 6
        }
      ]
    },
    {
      "cell_type": "code",
      "source": [
        "print(len(data[data['target'] == 1]))\n",
        "print(len(data[data['target'] == 0]))"
      ],
      "metadata": {
        "colab": {
          "base_uri": "https://localhost:8080/"
        },
        "id": "R_iMSORVN00B",
        "outputId": "33ea5f77-3faf-4439-e413-791a71f0dd0c"
      },
      "execution_count": 7,
      "outputs": [
        {
          "output_type": "stream",
          "name": "stdout",
          "text": [
            "20603\n",
            "19577\n"
          ]
        }
      ]
    },
    {
      "cell_type": "code",
      "source": [
        "df = data.copy()\n",
        "df"
      ],
      "metadata": {
        "colab": {
          "base_uri": "https://localhost:8080/",
          "height": 424
        },
        "id": "oFaFKyBEymNF",
        "outputId": "9cee1a69-d854-4e43-f199-771ac65a6b1a"
      },
      "execution_count": 8,
      "outputs": [
        {
          "output_type": "execute_result",
          "data": {
            "text/plain": [
              "                                 tweet_stopwords_removed  target\n",
              "0                brand new big flowdan email #horrorshow       0\n",
              "1                                   fuck bitch get money       1\n",
              "2      exactly n't gettin additional pussy soft ass t...       1\n",
              "3      niccas use like always tryn pull finesse duh n...       1\n",
              "4                                            karma bitch       1\n",
              "...                                                  ...     ...\n",
              "40175                                        dress ready       0\n",
              "40176  many bitch get rabies hate hoppin' woman #stan...       1\n",
              "40177  #lesmiserables gang ready westendlive #lesmise...       0\n",
              "40178                dumb ugly stupid bullshit ass bitch       1\n",
              "40179                                   bros hoe bro hoe       1\n",
              "\n",
              "[40180 rows x 2 columns]"
            ],
            "text/html": [
              "\n",
              "  <div id=\"df-879f98f7-1919-44dd-96c6-15f2969b3901\">\n",
              "    <div class=\"colab-df-container\">\n",
              "      <div>\n",
              "<style scoped>\n",
              "    .dataframe tbody tr th:only-of-type {\n",
              "        vertical-align: middle;\n",
              "    }\n",
              "\n",
              "    .dataframe tbody tr th {\n",
              "        vertical-align: top;\n",
              "    }\n",
              "\n",
              "    .dataframe thead th {\n",
              "        text-align: right;\n",
              "    }\n",
              "</style>\n",
              "<table border=\"1\" class=\"dataframe\">\n",
              "  <thead>\n",
              "    <tr style=\"text-align: right;\">\n",
              "      <th></th>\n",
              "      <th>tweet_stopwords_removed</th>\n",
              "      <th>target</th>\n",
              "    </tr>\n",
              "  </thead>\n",
              "  <tbody>\n",
              "    <tr>\n",
              "      <th>0</th>\n",
              "      <td>brand new big flowdan email #horrorshow</td>\n",
              "      <td>0</td>\n",
              "    </tr>\n",
              "    <tr>\n",
              "      <th>1</th>\n",
              "      <td>fuck bitch get money</td>\n",
              "      <td>1</td>\n",
              "    </tr>\n",
              "    <tr>\n",
              "      <th>2</th>\n",
              "      <td>exactly n't gettin additional pussy soft ass t...</td>\n",
              "      <td>1</td>\n",
              "    </tr>\n",
              "    <tr>\n",
              "      <th>3</th>\n",
              "      <td>niccas use like always tryn pull finesse duh n...</td>\n",
              "      <td>1</td>\n",
              "    </tr>\n",
              "    <tr>\n",
              "      <th>4</th>\n",
              "      <td>karma bitch</td>\n",
              "      <td>1</td>\n",
              "    </tr>\n",
              "    <tr>\n",
              "      <th>...</th>\n",
              "      <td>...</td>\n",
              "      <td>...</td>\n",
              "    </tr>\n",
              "    <tr>\n",
              "      <th>40175</th>\n",
              "      <td>dress ready</td>\n",
              "      <td>0</td>\n",
              "    </tr>\n",
              "    <tr>\n",
              "      <th>40176</th>\n",
              "      <td>many bitch get rabies hate hoppin' woman #stan...</td>\n",
              "      <td>1</td>\n",
              "    </tr>\n",
              "    <tr>\n",
              "      <th>40177</th>\n",
              "      <td>#lesmiserables gang ready westendlive #lesmise...</td>\n",
              "      <td>0</td>\n",
              "    </tr>\n",
              "    <tr>\n",
              "      <th>40178</th>\n",
              "      <td>dumb ugly stupid bullshit ass bitch</td>\n",
              "      <td>1</td>\n",
              "    </tr>\n",
              "    <tr>\n",
              "      <th>40179</th>\n",
              "      <td>bros hoe bro hoe</td>\n",
              "      <td>1</td>\n",
              "    </tr>\n",
              "  </tbody>\n",
              "</table>\n",
              "<p>40180 rows × 2 columns</p>\n",
              "</div>\n",
              "      <button class=\"colab-df-convert\" onclick=\"convertToInteractive('df-879f98f7-1919-44dd-96c6-15f2969b3901')\"\n",
              "              title=\"Convert this dataframe to an interactive table.\"\n",
              "              style=\"display:none;\">\n",
              "        \n",
              "  <svg xmlns=\"http://www.w3.org/2000/svg\" height=\"24px\"viewBox=\"0 0 24 24\"\n",
              "       width=\"24px\">\n",
              "    <path d=\"M0 0h24v24H0V0z\" fill=\"none\"/>\n",
              "    <path d=\"M18.56 5.44l.94 2.06.94-2.06 2.06-.94-2.06-.94-.94-2.06-.94 2.06-2.06.94zm-11 1L8.5 8.5l.94-2.06 2.06-.94-2.06-.94L8.5 2.5l-.94 2.06-2.06.94zm10 10l.94 2.06.94-2.06 2.06-.94-2.06-.94-.94-2.06-.94 2.06-2.06.94z\"/><path d=\"M17.41 7.96l-1.37-1.37c-.4-.4-.92-.59-1.43-.59-.52 0-1.04.2-1.43.59L10.3 9.45l-7.72 7.72c-.78.78-.78 2.05 0 2.83L4 21.41c.39.39.9.59 1.41.59.51 0 1.02-.2 1.41-.59l7.78-7.78 2.81-2.81c.8-.78.8-2.07 0-2.86zM5.41 20L4 18.59l7.72-7.72 1.47 1.35L5.41 20z\"/>\n",
              "  </svg>\n",
              "      </button>\n",
              "      \n",
              "  <style>\n",
              "    .colab-df-container {\n",
              "      display:flex;\n",
              "      flex-wrap:wrap;\n",
              "      gap: 12px;\n",
              "    }\n",
              "\n",
              "    .colab-df-convert {\n",
              "      background-color: #E8F0FE;\n",
              "      border: none;\n",
              "      border-radius: 50%;\n",
              "      cursor: pointer;\n",
              "      display: none;\n",
              "      fill: #1967D2;\n",
              "      height: 32px;\n",
              "      padding: 0 0 0 0;\n",
              "      width: 32px;\n",
              "    }\n",
              "\n",
              "    .colab-df-convert:hover {\n",
              "      background-color: #E2EBFA;\n",
              "      box-shadow: 0px 1px 2px rgba(60, 64, 67, 0.3), 0px 1px 3px 1px rgba(60, 64, 67, 0.15);\n",
              "      fill: #174EA6;\n",
              "    }\n",
              "\n",
              "    [theme=dark] .colab-df-convert {\n",
              "      background-color: #3B4455;\n",
              "      fill: #D2E3FC;\n",
              "    }\n",
              "\n",
              "    [theme=dark] .colab-df-convert:hover {\n",
              "      background-color: #434B5C;\n",
              "      box-shadow: 0px 1px 3px 1px rgba(0, 0, 0, 0.15);\n",
              "      filter: drop-shadow(0px 1px 2px rgba(0, 0, 0, 0.3));\n",
              "      fill: #FFFFFF;\n",
              "    }\n",
              "  </style>\n",
              "\n",
              "      <script>\n",
              "        const buttonEl =\n",
              "          document.querySelector('#df-879f98f7-1919-44dd-96c6-15f2969b3901 button.colab-df-convert');\n",
              "        buttonEl.style.display =\n",
              "          google.colab.kernel.accessAllowed ? 'block' : 'none';\n",
              "\n",
              "        async function convertToInteractive(key) {\n",
              "          const element = document.querySelector('#df-879f98f7-1919-44dd-96c6-15f2969b3901');\n",
              "          const dataTable =\n",
              "            await google.colab.kernel.invokeFunction('convertToInteractive',\n",
              "                                                     [key], {});\n",
              "          if (!dataTable) return;\n",
              "\n",
              "          const docLinkHtml = 'Like what you see? Visit the ' +\n",
              "            '<a target=\"_blank\" href=https://colab.research.google.com/notebooks/data_table.ipynb>data table notebook</a>'\n",
              "            + ' to learn more about interactive tables.';\n",
              "          element.innerHTML = '';\n",
              "          dataTable['output_type'] = 'display_data';\n",
              "          await google.colab.output.renderOutput(dataTable, element);\n",
              "          const docLink = document.createElement('div');\n",
              "          docLink.innerHTML = docLinkHtml;\n",
              "          element.appendChild(docLink);\n",
              "        }\n",
              "      </script>\n",
              "    </div>\n",
              "  </div>\n",
              "  "
            ]
          },
          "metadata": {},
          "execution_count": 8
        }
      ]
    },
    {
      "cell_type": "markdown",
      "source": [
        "## Splitting train, test, val datasets"
      ],
      "metadata": {
        "id": "-jtMTyQVQZO6"
      }
    },
    {
      "cell_type": "code",
      "source": [
        "train, val, test = np.split(df.sample(frac=1), [int(0.8*len(df)), int(0.9*len(df))])"
      ],
      "metadata": {
        "id": "Wcm82VK6xVW0"
      },
      "execution_count": 9,
      "outputs": []
    },
    {
      "cell_type": "code",
      "source": [
        "print(len(train), 'training examples')\n",
        "print(len(val), 'validation examples')\n",
        "print(len(test), 'test examples')"
      ],
      "metadata": {
        "colab": {
          "base_uri": "https://localhost:8080/"
        },
        "id": "gai4tjg2y7Al",
        "outputId": "31dbf67b-717f-4e44-ea69-4499034ac31a"
      },
      "execution_count": 10,
      "outputs": [
        {
          "output_type": "stream",
          "name": "stdout",
          "text": [
            "32144 training examples\n",
            "4018 validation examples\n",
            "4018 test examples\n"
          ]
        }
      ]
    },
    {
      "cell_type": "markdown",
      "source": [
        "### Preparing dataset for model"
      ],
      "metadata": {
        "id": "SO8Srh5_Q3ei"
      }
    },
    {
      "cell_type": "code",
      "source": [
        "def df_to_dataset(df, shuffle=True, batch_size=256):\n",
        "  df = df.copy()\n",
        "  labels = df.pop('target')\n",
        "  df = df['tweet_stopwords_removed']\n",
        "  ds = tf.data.Dataset.from_tensor_slices((df, labels))\n",
        "  if shuffle:\n",
        "    ds = ds.shuffle(buffer_size=len(df))\n",
        "  ds = ds.batch(batch_size)\n",
        "  ds = ds.prefetch(tf.data.AUTOTUNE)\n",
        "  return ds"
      ],
      "metadata": {
        "id": "zwP_uquPzD9l"
      },
      "execution_count": 11,
      "outputs": []
    },
    {
      "cell_type": "code",
      "source": [
        "train_data= df_to_dataset(train)\n",
        "val_data= df_to_dataset(val)\n",
        "test_data= df_to_dataset(test)"
      ],
      "metadata": {
        "id": "DNMVqv040Iif"
      },
      "execution_count": 12,
      "outputs": []
    },
    {
      "cell_type": "code",
      "source": [
        "list(train_data)[0]"
      ],
      "metadata": {
        "colab": {
          "base_uri": "https://localhost:8080/"
        },
        "id": "HGSRkWOP02H8",
        "outputId": "981c887f-27af-49af-d5f9-6a710acd4487"
      },
      "execution_count": 13,
      "outputs": [
        {
          "output_type": "execute_result",
          "data": {
            "text/plain": [
              "(<tf.Tensor: shape=(256,), dtype=string, numpy=\n",
              " array([b'need hoe', b'bitch tweet answer', b'comic make #smile laugh',\n",
              "        b'bitch self esteem build like principle build instagram meme',\n",
              "        b\"week ago yall hoe n't suck dick yall pro huj\",\n",
              "        b'server lag ranked match constantly multiple rank #disappoint',\n",
              "        b'never lie never cry never die die love friend love hoe yellow slut call gold',\n",
              "        b'learn great asia torres take note bitch',\n",
              "        b'leave delivered smh #noreadrecipetson #curve',\n",
              "        b'fusionmadness lmao #motivation',\n",
              "        b'girl know bitch like boyfriend',\n",
              "        b'kind beautiful #wink #weekend #smile #kiss',\n",
              "        b'think pussy wet kitten drown two day ago',\n",
              "        b'bitch need bring ass fucking practice', b'bitch ass buddy pmo',\n",
              "        b'eminem say call faggot cause hate pussy',\n",
              "        b'fuck fuck hate guy insurance policy trash omg square fuck',\n",
              "        b'see fuck bitch fuck bitch also',\n",
              "        b'good time #friend #friend #fun #tagsforlikes #funny #love #instagood #igers #friendship #pay #chill',\n",
              "        b'drippin much damn sauce get bitch ready lick',\n",
              "        b'like kid beyond scared straight act like hard ass gangster end leave ball eye like bitch lol',\n",
              "        b'look forward tour school #newnormal',\n",
              "        b'julia robert #nottinghill',\n",
              "        b'make angry hang diy fucker #sick hoursinpolice',\n",
              "        b'#fridayfeeling wonderful weekend #happiness #weekend #love #family #friend',\n",
              "        b\"bitch ever problem n't check shit twitter\",\n",
              "        b'super bloom #dahlias #mygarden #summer #wild #flower #home',\n",
              "        b'thankful teacher #thankful #positive',\n",
              "        b'bad view bad view #adventure #toinfinityandbeyond sky bar',\n",
              "        b'people forget say people forget people never forget make feel #thoughtful',\n",
              "        b'ban dat pussy life amp get pay millon dollar fine',\n",
              "        b\"mary jane dumb bitch peter job save city spiderman bitch n't come play\",\n",
              "        b'coon hoe love put spaghetti salad fucking plate smh',\n",
              "        b'miss friend play xbox',\n",
              "        b\"yaaaassss bitch sad n't like cause friend n't that's basically girls work\",\n",
              "        b\"chill bitch n't love\",\n",
              "        b\"#worldoceansday here's quick post wwf highlight five marine specie #educationispower\",\n",
              "        b'jealousy bitch',\n",
              "        b'pissed forget saiyan bitch infio give tioo fuck',\n",
              "        b\"lol match early's champion bitch really would ham\",\n",
              "        b'well wish could shoot shit wit bitch daddy get get dis money one',\n",
              "        b'melo get bitch east', b'call bitch ass',\n",
              "        b'see dayd president coz bitch hoe makin money day way',\n",
              "        b'see politician use tragedy push agenda really care change',\n",
              "        b'think love bitch core', b\"lyric of'you're there' hit hard soul\",\n",
              "        b'one last selfie welcome retirement #tugglenation amp #cheer',\n",
              "        b'#ripchristinagrimmie sad people sick thing world prayer family fan fan',\n",
              "        b\"bitch even worst they'll send guy\", b\"bitch i'm\",\n",
              "        b'know pussy good sound like mix spaghetti hit lol',\n",
              "        b\"shout bitch n't dress half naked get man attention stay classy\",\n",
              "        b'westside nicca', b\"know doc one tonight's episode broken hea\",\n",
              "        b'get pedicure bitch bout tanning something bitch',\n",
              "        b\"#bihday corny crony jjyancey he's love #atlanta #brave #camo\",\n",
              "        b'james big bitch basketball swear fuckin cramp seriously',\n",
              "        b'happy thursday #thursday #infectious #happiness #smile #laughter #goodvibes',\n",
              "        b'take bitch set bitch get around set dicked bitch set',\n",
              "        b'apologize lol fuck hoe shot pussy',\n",
              "        b'want put basket #baby #babysitting #silly thcousin #dominicanfamily',\n",
              "        b\"fag that's gay ass shit\",\n",
              "        b'horrible scene #pulsenightclub send positive vibe victim #pulsenightclubshooting',\n",
              "        b'bihday', b'happy easy #lifesatisfaction',\n",
              "        b'put angry even though make guy #make',\n",
              "        b\"i'm tired corny vine ugly face stupid voice nigga niggah sexy\",\n",
              "        b'thankful #selflovemantras #selflove #love #iloveme #quote #quote #quoteoftheday #happiness #life #wisdom',\n",
              "        b'bitch ask question', b'#play #kid #smile #heal #pain',\n",
              "        b'first lollipop asiatic lily sundrops narrow leaf even primrose rise #gardenlife',\n",
              "        b'rather see wifey happy see hoe naked common sense nigga treat hoe well one love',\n",
              "        b'slack line arrive end day #cantwait #newthings',\n",
              "        b'guy cheat girlfriend trash girl know girlfriend also trash',\n",
              "        b'world get sicker sicker day sickness body mind overall well #prayfororlando',\n",
              "        b'translation like dont really think dont think queer deserve happy end',\n",
              "        b\"i'm jst fckn i've always want jigg hella good jst wild enough circle cuz\",\n",
              "        b'luda say bitch bad well mine look well weather lol',\n",
              "        b'burn forever bitch',\n",
              "        b'become cold hearted bitch really plan life',\n",
              "        b'swear hoe follow ever since break',\n",
              "        b'girl say happy birthday need bitch bitch like get stack stack',\n",
              "        b'#stop waste america money #shame',\n",
              "        b'#girl #baby #pregnancy #princess',\n",
              "        b'snail hoe parent leave gon min snail snail hoe horny snail http',\n",
              "        b'first chick bring hash brown waffle house right get pussy ate',\n",
              "        b'first par thing fall apa tracker may take break #fallingapa #chasefor',\n",
              "        b'house #glow come tumble historic riviera hotel casino demolish vega fox news',\n",
              "        b'real men eat pussy', b'give somebody bitch look',\n",
              "        b\"inform crunk n't dead lol okay sure\",\n",
              "        b'turn real marriott bitch weekend mansion tonight adult swim tomorrow',\n",
              "        b'bitch look like kurt cobain old bro', b'feelsday #myhea',\n",
              "        b'lesbian pussy taste like rainbow trout #lezzzbehonest',\n",
              "        b'bitch get live',\n",
              "        b'#girl talk #tablet #cell #communication #green', b'gazal follow',\n",
              "        b'gay kill masse islamic murderer twink blame call culprit',\n",
              "        b'bear amp breed maryhill marry springburn girl one activist',\n",
              "        b'saturday swim familia time deadlifts shoulder press amp yummy food',\n",
              "        b'date #lafamilia first #miami #fathersday',\n",
              "        b'put #vote yet havent #share see make #you #smile #poll',\n",
              "        b'#girl never enough #jewelry #chickraft #love #glitter #mylove #ring #forever #jewelrylover',\n",
              "        b'baby girl pussy look vacant',\n",
              "        b'#usd cad trim gain ahead data #blog #silver #gold #forex',\n",
              "        b'recent flw connect grow follower',\n",
              "        b'gaga bitch probably give lapdances',\n",
              "        b\"make n't least teeny bit happy #meow see\",\n",
              "        b'texting bitch like main material fuck shit finna get youza hoe text',\n",
              "        b\"florida governor obama'has call' orlando terror attack\",\n",
              "        b'follow #win copy clean lean life #healthy #body',\n",
              "        b'nigga cheat even know bitch name shit aint cheating',\n",
              "        b\"n't trust hoe\", b'stupid bitch stay home',\n",
              "        b'excite tomorrow wwe money bank match',\n",
              "        b\"either gay straight n't talk bitch please\", b'boat hoe',\n",
              "        b'touch pussy', b'beyonc seem like bitch', b\"n't revise\",\n",
              "        b\"top crappy day sign paper house pop conce block work amp n't know\",\n",
              "        b'mountain view baptist sevierville',\n",
              "        b'ugly goldigging cunt probably uncircumcised penis faggot',\n",
              "        b'hoe yesterday hoe tomorrow', b'shit dry bitch ask water shit',\n",
              "        b\"feel like smile i'm tire frown time stupid people try ruin life\",\n",
              "        b'stupid white people make post relevant life #stupid #cousintoucher #honkie #whitetrash #blonde',\n",
              "        b'nobody like bloody nip',\n",
              "        b'reaction spoiled white kid say nigga like thug #everytime #whiggers',\n",
              "        b'really #toyota close would deserve #victory much #lemans',\n",
              "        b'get charge nigga tryna talk chick really insecure faggot control',\n",
              "        b'#soalegend aka like lot #teambadassofanarchy',\n",
              "        b'though really hoe really dummy take pic',\n",
              "        b'take one female change nigga take niggas change hoe',\n",
              "        b'bitch tweet relationship goal man job real desire stop hoe party every weekend jus iph',\n",
              "        b'hit foot car around chill could end like',\n",
              "        b'hoe suck dick look like john stockton hit wit choppa luke fatherrr',\n",
              "        b'super excite give notice marry today #wedding', b'society today',\n",
              "        b'bitch great valuable pussy always make use protection many nasty dick nigga',\n",
              "        b\"i'm flip thru saw bachelor stooped second say hoe garbage\",\n",
              "        b'pussy get body count dead pussy life', b'amp wes bitch dead',\n",
              "        b'#great #thing #come way #inlove #strong ever #humble #ready',\n",
              "        b'hardly hoe anymore lol', b'put people bitch face',\n",
              "        b'yesss hair face right #didntneedafilter #butidoloveem',\n",
              "        b'quote jeremy corbyn fuck', b'vanessa fuckin faggot',\n",
              "        b'say faggot mean someone fuck weak',\n",
              "        b'look oomf pretend bitch really work nah',\n",
              "        b'mike service engineer always happy smile workplace #eageoplease',\n",
              "        b'fuck bitch dont even suck dick kermit video bout fuck',\n",
              "        b'experience charlie marry woman love hot phone sex stranger get',\n",
              "        b'harbor bitch party bus hoe lol', b'aye bitch',\n",
              "        b'never find another #me #myself #selfie #igers malaysia #girl #strong',\n",
              "        b'hoe hoe', b'bos say yes office margs #bliss',\n",
              "        b'never understand want strap fck nigga wtf bitch',\n",
              "        b\"ever since zayne leave they've never\",\n",
              "        b\"#good #kingreynolds i'm i'm #satisfied i'm #look good i'm #feelinggood #feeling\",\n",
              "        b\"say love bitch much i'll kill ass front\",\n",
              "        b\"want big titty'd hoe dyke wash rim lls expect chick bikini car wash rid rim brake dust\",\n",
              "        b'june #shofilm #bollywood',\n",
              "        b'matcha cappuccino long day travel #travel #summer #healthy #yummy #sweet',\n",
              "        b'miss fucker send txt every like use ill twat',\n",
              "        b'fashion bottomless pit misery suffering bank account drain hate clothes',\n",
              "        b'doesnt matter joke fact still remain hes faggot pretend girl',\n",
              "        b'kaya class',\n",
              "        b'like summer #summer #swim #swim #sun #sunny #sea #seaside',\n",
              "        b'add company happy hen limit look #hen #jersey',\n",
              "        b'bitch freak fuck sleep dat last time sleep shit wake fuck aint sleep long',\n",
              "        b'local library try charge fee already pay twice #ineedtosavethereceipt #frustrate',\n",
              "        b'make #purple #lip #makeup #beauty #willow #enjoy #nice #woman #like #funny',\n",
              "        b'#porn #android #iphone #ipad #sex #xxx #creampie young japanese girl hairy cunt cre',\n",
              "        b'marilyn monroe set standard hoe achieve society',\n",
              "        b'new classmate new rooom new teacher',\n",
              "        b'day move back home friday back beach',\n",
              "        b'add #petite #vintage #case #suitcase #tower #lovevintage #vintageluggage #vintagestyle #lovefl',\n",
              "        b\"awk n't like nephew cousin race lmao break ugly bitch fuck n't need\",\n",
              "        b'real nigga know matter hungry good let bitch cool',\n",
              "        b'shoutout real bitch',\n",
              "        b'wait make return trip summer well need thermal village look',\n",
              "        b\"i'm turn heartless bitch\", b'bitch nawl',\n",
              "        b'fuck skinny bitch #myboy #friend #mylife #mysweet #diamondboy #crazy #girl #night',\n",
              "        b'sad image ever exist #outoforder #icecream ness #sosad #sososad',\n",
              "        b'wrestler invite #punjabi kudi #shock #viral #woman #wt',\n",
              "        b'python concurrency best friend code restructure get concurrency celery #developer #python',\n",
              "        b'nice dumb bitch put nose business eat shit white trash hoe',\n",
              "        b'funny weather sync mood #depression #myday #relationship #weather #mindcheating',\n",
              "        b'kim lil sisters hoe', b'idiot notice lose incompetence #gop',\n",
              "        b'advises build happy long lasting marriage #long lasting #marriage via',\n",
              "        b\"katy's grand exit tonight firehouse hasta bye bye bitch\",\n",
              "        b'hope get want bitch',\n",
              "        b'#eur chf bounce low snb #blog #silver #gold #forex',\n",
              "        b\"tell bitch get knee n't want sex\",\n",
              "        b'love see smile #companymusicvideo amaze',\n",
              "        b\"dish texas trash talk racist maybe gbush apologize sin would n't hide\",\n",
              "        b'pakabait pls goodluck congrats new project proud',\n",
              "        b'excited boosie get valentine day get vday pussy allstar weeekend pussy mardi gras',\n",
              "        b\"i'm tell shaved pussy ugly\",\n",
              "        b'#huntingtonbeach bull hill climb reach target complete task survive stron',\n",
              "        b\"i'm see freakin tomorrow last time saw nyc think\",\n",
              "        b\"n't buy tomorrow that's hard hoe\", b'cunt wish faggot',\n",
              "        b\"class right need headphone seventh period i'm serious bitch ass trophenboum\",\n",
              "        b'attention one motoroboated knee someone get jiggaboo water #thirsty',\n",
              "        b\"y'all bitch well stop madness\",\n",
              "        b'hard monday due cloudy weather disable oxygen production today #goodnight #badmonday',\n",
              "        b'stupid thane cawdor dare betray country nords #betray',\n",
              "        b'look well bitch outfit floor #myboy',\n",
              "        b'nice able see #gpeurope #baku sta #lemans #lm #race #doublewin',\n",
              "        b\"nigga fuck yah good eat pussy home bitch like n't shit happen\",\n",
              "        b\"dat n't argue wit dese bitch lol keep brief trappa lls\",\n",
              "        b'tell fuckin barbarian pussy juice really help beard grow',\n",
              "        b'preston next #pirelli #ormsuk #britishmx',\n",
              "        b\"swing really n't like woman old hag ass bitch\",\n",
              "        b'#euro #louaners today germany play ukraine lille #ger',\n",
              "        b'welcome back malaysia #klia #favourite #man kuala lumpur international airpo',\n",
              "        b'hour ibar monday thursday #ibar #special #hour',\n",
              "        b'demise type tutor #yahoomessenger miss dude #chatbot #chat #technews',\n",
              "        b'lot #resistance #challenge favorite #thoughtleaders #mentor',\n",
              "        b'charlotte goon niccas gon fkkk around burn bank america stadium',\n",
              "        b'#familytime #stanastasia #blacksea anastasia island',\n",
              "        b'peace mind #serenity',\n",
              "        b'anywhere #igers #ig #fast #breakfast #clothing #duztfield',\n",
              "        b'aint get time mufuckin fake friend smoke weed fuck hoe nigga drink gin',\n",
              "        b'know faggot name luke', b\"he's gon get dem bitch\",\n",
              "        b'shame deadass hold tear fault star',\n",
              "        b'boy get turn nikki song way volume kuz trash ass fat lawd',\n",
              "        b'thank downloads really appreciate help develop city island basic #thankyou #fun #basic #cool',\n",
              "        b'hill', b\"dance today's flash mob love #boulderjewishfestival\",\n",
              "        b\"fuck michigan many wan thug ask y'all pussy i'm bitch next year\",\n",
              "        b\"woman's revenge man hoe\", b'want really like',\n",
              "        b'look forward head today perform annual cricket day #pleasedontrain',\n",
              "        b\"person new year resolution jackass everyone yeah i'm buy i'm retard\",\n",
              "        b'bitch weave game serious',\n",
              "        b\"#father's #day great dad around world\",\n",
              "        b'aerin tell leave lightskin boy alone shit bitch',\n",
              "        b\"n't pain nail like month\",\n",
              "        b'#love #nature #beauty #garden #outdoors #pretty #cute #lovely #beautiful #fun #water #sun #life #inst',\n",
              "        b\"stupid n't know life easy ever see depressed retard envy\",\n",
              "        b'#sebidigitaldays staed #creative room',\n",
              "        b'eventually every bitch turn hoe truuu',\n",
              "        b\"would think people would care poor child starve gen n't give shit\",\n",
              "        b'get email get pass central intelligence soo happy thank pass #centralintelligence',\n",
              "        b'hello october irrelevant bitch worry november come',\n",
              "        b\"bin day today n't wait #euro\"], dtype=object)>,\n",
              " <tf.Tensor: shape=(256,), dtype=int64, numpy=\n",
              " array([1, 1, 0, 1, 1, 0, 1, 1, 0, 0, 1, 0, 1, 1, 1, 1, 1, 1, 0, 1, 1, 0,\n",
              "        1, 0, 0, 1, 0, 0, 0, 0, 1, 1, 1, 0, 1, 1, 0, 1, 1, 1, 1, 1, 1, 1,\n",
              "        0, 1, 0, 0, 0, 1, 1, 1, 1, 1, 0, 1, 0, 1, 0, 1, 1, 0, 1, 0, 0, 0,\n",
              "        0, 1, 0, 1, 0, 0, 1, 0, 1, 0, 1, 1, 1, 1, 1, 1, 1, 0, 0, 1, 1, 0,\n",
              "        0, 1, 1, 1, 1, 1, 0, 1, 1, 0, 0, 0, 0, 0, 0, 0, 0, 1, 0, 0, 1, 0,\n",
              "        1, 0, 0, 1, 1, 1, 0, 1, 1, 1, 1, 0, 0, 0, 1, 1, 1, 0, 1, 1, 1, 0,\n",
              "        1, 0, 1, 1, 1, 0, 1, 0, 0, 1, 1, 1, 1, 0, 1, 1, 0, 0, 1, 1, 1, 0,\n",
              "        1, 1, 1, 1, 0, 1, 0, 1, 0, 0, 1, 1, 0, 0, 1, 0, 1, 0, 0, 0, 1, 0,\n",
              "        0, 1, 1, 0, 0, 0, 1, 1, 1, 0, 1, 1, 0, 0, 0, 0, 1, 0, 1, 0, 0, 1,\n",
              "        1, 0, 1, 0, 1, 0, 1, 1, 0, 0, 1, 1, 1, 1, 1, 0, 0, 1, 0, 1, 1, 1,\n",
              "        0, 1, 0, 0, 0, 0, 0, 1, 0, 0, 0, 1, 1, 1, 0, 1, 0, 0, 0, 1, 1, 0,\n",
              "        0, 1, 1, 0, 1, 0, 0, 1, 0, 1, 0, 0, 1, 0])>)"
            ]
          },
          "metadata": {},
          "execution_count": 13
        }
      ]
    },
    {
      "cell_type": "markdown",
      "source": [
        "## Using nnlm-en-dim50 model\n",
        "\n",
        "Token based text embedding trained on English Google News 7B corpus.\n",
        "\n",
        "\n"
      ],
      "metadata": {
        "id": "iyVK6oi8SUZ5"
      }
    },
    {
      "cell_type": "code",
      "source": [
        "embedding = \"https://tfhub.dev/google/nnlm-en-dim50/2\"\n",
        "hub_layer = hub.KerasLayer(embedding, dtype=tf.string, trainable=True)"
      ],
      "metadata": {
        "id": "fPO4ts0A1PJO"
      },
      "execution_count": 14,
      "outputs": []
    },
    {
      "cell_type": "code",
      "source": [
        "hub_layer(list(train_data)[0][0])"
      ],
      "metadata": {
        "colab": {
          "base_uri": "https://localhost:8080/"
        },
        "id": "NMqNgIu_1PaD",
        "outputId": "90702b81-038c-4db5-bd29-1958456630e5"
      },
      "execution_count": 15,
      "outputs": [
        {
          "output_type": "execute_result",
          "data": {
            "text/plain": [
              "<tf.Tensor: shape=(256, 50), dtype=float32, numpy=\n",
              "array([[-0.03860819, -0.32214642, -0.13782533, ...,  0.19841729,\n",
              "         0.21087576,  0.06910939],\n",
              "       [ 0.25738963, -0.14863992, -0.07130796, ...,  0.13099612,\n",
              "         0.23738126, -0.02596871],\n",
              "       [ 0.2520633 , -0.355566  , -0.40394422, ...,  0.02572255,\n",
              "         0.22821315,  0.09927262],\n",
              "       ...,\n",
              "       [ 0.5132942 , -0.31024072,  0.21904469, ...,  0.15691812,\n",
              "         0.15693112,  0.44100344],\n",
              "       [ 0.06495484, -0.2244325 , -0.47533002, ..., -0.19148125,\n",
              "         0.28530994,  0.2756733 ],\n",
              "       [ 0.07677812, -0.01887227, -0.34017456, ...,  0.04699153,\n",
              "         0.24548225, -0.06460755]], dtype=float32)>"
            ]
          },
          "metadata": {},
          "execution_count": 15
        }
      ]
    },
    {
      "cell_type": "markdown",
      "source": [
        "## Final Model for hate speech classification"
      ],
      "metadata": {
        "id": "7yLLMZEDSmDj"
      }
    },
    {
      "cell_type": "code",
      "source": [
        "# model architecture\n",
        "\n",
        "model = tf.keras.Sequential()\n",
        "model.add(hub_layer)\n",
        "model.add(tf.keras.layers.Dense(256, activation='relu'))\n",
        "model.add(tf.keras.layers.Dropout(0.5))\n",
        "model.add(tf.keras.layers.Dense(128, activation='relu'))\n",
        "model.add(tf.keras.layers.Dropout(0.2))\n",
        "model.add(tf.keras.layers.Dense(32, activation='relu'))\n",
        "model.add(tf.keras.layers.Dropout(0.4))\n",
        "model.add(tf.keras.layers.Dense(1, activation='sigmoid'))"
      ],
      "metadata": {
        "id": "8kIPwnxS1PlM"
      },
      "execution_count": 16,
      "outputs": []
    },
    {
      "cell_type": "code",
      "source": [
        "# defining callback for on epoch end\n",
        "\n",
        "class mycallback(tf.keras.callbacks.Callback):\n",
        "  def on_epoch_end(self, epoch, logs={}):\n",
        "    if logs.get('accuracy') > 0.997 and logs.get('val_accuracy') > 0.975:\n",
        "      print('\\n\\n\\nTraining Stopped. Accuracy reached 99.7% and Validation accuracy reached 97.5%\\n\\n')\n",
        "      self.model.stop_training = True\n",
        "\n",
        "callback = mycallback()"
      ],
      "metadata": {
        "id": "3rjezkB2B3NT"
      },
      "execution_count": 17,
      "outputs": []
    },
    {
      "cell_type": "code",
      "source": [
        "# compiling model\n",
        "\n",
        "model.compile(optimizer=tf.keras.optimizers.Adam(learning_rate=0.001),\n",
        "              loss=tf.keras.losses.BinaryCrossentropy(),\n",
        "              metrics=[\"accuracy\"])"
      ],
      "metadata": {
        "id": "m-EKoW2O5wJM"
      },
      "execution_count": 18,
      "outputs": []
    },
    {
      "cell_type": "code",
      "source": [
        "# testing untrained model on train data for accuracy\n",
        "\n",
        "model.evaluate(train_data)"
      ],
      "metadata": {
        "colab": {
          "base_uri": "https://localhost:8080/"
        },
        "id": "mYwNStic6PO9",
        "outputId": "76ba96e3-198b-4b1f-bc90-5d4bb9e8529d"
      },
      "execution_count": 19,
      "outputs": [
        {
          "output_type": "stream",
          "name": "stdout",
          "text": [
            "126/126 [==============================] - 3s 7ms/step - loss: 0.6832 - accuracy: 0.6684\n"
          ]
        },
        {
          "output_type": "execute_result",
          "data": {
            "text/plain": [
              "[0.6831768155097961, 0.668367326259613]"
            ]
          },
          "metadata": {},
          "execution_count": 19
        }
      ]
    },
    {
      "cell_type": "code",
      "source": [
        "# testing untrained model on validation data for accuracy\n",
        "\n",
        "model.evaluate(val_data)"
      ],
      "metadata": {
        "colab": {
          "base_uri": "https://localhost:8080/"
        },
        "id": "gTThL4O06YBU",
        "outputId": "2aef3326-cc52-47cf-d195-aeddbfaab014"
      },
      "execution_count": 20,
      "outputs": [
        {
          "output_type": "stream",
          "name": "stdout",
          "text": [
            "16/16 [==============================] - 0s 9ms/step - loss: 0.6833 - accuracy: 0.6725\n"
          ]
        },
        {
          "output_type": "execute_result",
          "data": {
            "text/plain": [
              "[0.6833395957946777, 0.6724738478660583]"
            ]
          },
          "metadata": {},
          "execution_count": 20
        }
      ]
    },
    {
      "cell_type": "code",
      "source": [
        "# training model for 10 epoch but with defined callback\n",
        "\n",
        "history = model.fit(train_data, epochs=100, validation_data=val_data, callbacks=callback)"
      ],
      "metadata": {
        "colab": {
          "base_uri": "https://localhost:8080/"
        },
        "id": "2UhyIwsr6cON",
        "outputId": "a61d62a4-ff4f-419c-f117-a548f0a431b3"
      },
      "execution_count": 21,
      "outputs": [
        {
          "output_type": "stream",
          "name": "stdout",
          "text": [
            "Epoch 1/100\n",
            "126/126 [==============================] - 7s 43ms/step - loss: 0.2382 - accuracy: 0.9111 - val_loss: 0.0961 - val_accuracy: 0.9684\n",
            "Epoch 2/100\n",
            "126/126 [==============================] - 4s 32ms/step - loss: 0.0737 - accuracy: 0.9769 - val_loss: 0.0727 - val_accuracy: 0.9761\n",
            "Epoch 3/100\n",
            "126/126 [==============================] - 4s 34ms/step - loss: 0.0384 - accuracy: 0.9905 - val_loss: 0.0757 - val_accuracy: 0.9786\n",
            "Epoch 4/100\n",
            "126/126 [==============================] - 4s 32ms/step - loss: 0.0251 - accuracy: 0.9948 - val_loss: 0.0850 - val_accuracy: 0.9756\n",
            "Epoch 5/100\n",
            "126/126 [==============================] - 4s 32ms/step - loss: 0.0171 - accuracy: 0.9967 - val_loss: 0.0924 - val_accuracy: 0.9778\n",
            "Epoch 6/100\n",
            "125/126 [============================>.] - ETA: 0s - loss: 0.0141 - accuracy: 0.9973\n",
            "\n",
            "\n",
            "Training Stopped. Accuracy reached 99.7% and Validation accuracy reached 97.5%\n",
            "\n",
            "\n",
            "126/126 [==============================] - 4s 34ms/step - loss: 0.0144 - accuracy: 0.9973 - val_loss: 0.1067 - val_accuracy: 0.9764\n"
          ]
        }
      ]
    },
    {
      "cell_type": "code",
      "source": [
        "# testing trained model on test data for accuracy\n",
        "\n",
        "accuracy = model.evaluate(test_data)[1]\n",
        "\n",
        "print(f'\\nThe accuracy of trained model on test data is : {round((accuracy)*100,2)} %')"
      ],
      "metadata": {
        "colab": {
          "base_uri": "https://localhost:8080/"
        },
        "id": "NNOlGkb07pq9",
        "outputId": "4ee91bbc-e4ea-4c00-a543-6cfd69521b1f"
      },
      "execution_count": 22,
      "outputs": [
        {
          "output_type": "stream",
          "name": "stdout",
          "text": [
            "16/16 [==============================] - 1s 49ms/step - loss: 0.1266 - accuracy: 0.9719\n",
            "\n",
            "The accuracy of trained model on test data is : 97.19 %\n"
          ]
        }
      ]
    },
    {
      "cell_type": "markdown",
      "source": [
        "### Plotting Accuracy and loss curve"
      ],
      "metadata": {
        "id": "PG9H59vfTg2r"
      }
    },
    {
      "cell_type": "code",
      "source": [
        "acc = history.history['accuracy']\n",
        "val_acc = history.history['val_accuracy']\n",
        "loss = history.history['loss']\n",
        "val_loss = history.history['val_loss']\n",
        "\n",
        "epochs = range(1, len(acc) + 1)"
      ],
      "metadata": {
        "id": "reCPTp81T5Lq"
      },
      "execution_count": 23,
      "outputs": []
    },
    {
      "cell_type": "code",
      "source": [
        "# Taining accuracy Vs Validation accuracy\n",
        "\n",
        "# \"r\" is for \"solid red line\"\n",
        "plt.plot(epochs, acc, 'r', label='Training accuracy')\n",
        "# b is for \"solid blue line\"\n",
        "plt.plot(epochs, val_acc, 'b', label='Validation accuracy')\n",
        "plt.title('Training Vs Validation Accuracy')\n",
        "plt.xlabel('Epochs')\n",
        "plt.ylabel('Accuracy')\n",
        "plt.legend()\n",
        "\n",
        "plt.show()"
      ],
      "metadata": {
        "colab": {
          "base_uri": "https://localhost:8080/",
          "height": 295
        },
        "id": "-SNt4Gqu-m7Y",
        "outputId": "36521460-bf80-47f5-8813-51e28fbd8e53"
      },
      "execution_count": 24,
      "outputs": [
        {
          "output_type": "display_data",
          "data": {
            "text/plain": [
              "<Figure size 432x288 with 1 Axes>"
            ],
            "image/png": "[encoded data removed]"
          },
          "metadata": {
            "needs_background": "light"
          }
        }
      ]
    },
    {
      "cell_type": "code",
      "source": [
        "# Taining loss Vs Validation loss\n",
        "\n",
        "# \"r\" is for \"solid red line\"\n",
        "plt.plot(epochs, loss, 'r', label='Training loss')\n",
        "# b is for \"solid blue line\"\n",
        "plt.plot(epochs, val_loss, 'b', label='Validation loss')\n",
        "plt.title('Training Vs Validation Loss')\n",
        "plt.xlabel('Epochs')\n",
        "plt.ylabel('Loss')\n",
        "plt.legend()\n",
        "\n",
        "plt.show()"
      ],
      "metadata": {
        "id": "OQ91gRyuWCM-",
        "colab": {
          "base_uri": "https://localhost:8080/",
          "height": 295
        },
        "outputId": "83d6079c-a582-4630-e5d7-8ec9623222c2"
      },
      "execution_count": 25,
      "outputs": [
        {
          "output_type": "display_data",
          "data": {
            "text/plain": [
              "<Figure size 432x288 with 1 Axes>"
            ],
            "image/png": "[encoded data removed]"
          },
          "metadata": {
            "needs_background": "light"
          }
        }
      ]
    }
  ]
}